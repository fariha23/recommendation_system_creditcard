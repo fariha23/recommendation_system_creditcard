{
 "cells": [
  {
   "cell_type": "code",
   "execution_count": 1,
   "metadata": {},
   "outputs": [],
   "source": [
    "import sys\n",
    "import os\n",
    "\n",
    "ROOT_DIR = os.path.normpath(os.getcwd() + os.sep + os.pardir + os.sep + os.pardir) #change it to dir where Data folder is \n",
    "path=os.path.join(ROOT_DIR,'Data')\n",
    "\n",
    "datafile='eda_final_df.csv'# use the filename that your data file is named.\n",
    "PATH_TO_DATA=os.path.join(path,datafile)"
   ]
  },
  {
   "cell_type": "code",
   "execution_count": 3,
   "metadata": {},
   "outputs": [],
   "source": [
    "import pandas as pd\n",
    "import numpy as np\n",
    "from sklearn.metrics.pairwise import cosine_similarity\n",
    "\n",
    "from recomm_sys_v1_helper import rows_to_del_with_index\n",
    "from recomm_sys_v1_helper import top_merch\n",
    "from recomm_sys_v1_helper import merchCleanup\n",
    "from recomm_sys_v1_helper import createCatDF\n",
    "from recomm_sys_v1_helper import takeInputMerch\n",
    "from recomm_sys_v1_helper import filters\n",
    "from recomm_sys_v1_helper import recommendationSystem\n",
    "from recomm_sys_v1_helper import recommendationSystem_CosineAndPearson"
   ]
  },
  {
   "cell_type": "code",
   "execution_count": 4,
   "metadata": {},
   "outputs": [],
   "source": [
    "#Thresholds for filtering results from the recommendation engine\n",
    "\n",
    "Threshold_Sim_Score = 0.3 #tolerance fraction of accepting similarities among merchants. (0=too tolerant (accept all), 1: no tolerance(accept none))\n",
    "Threshold_Num_Visit = 6 #minimum of 6 visits must be counted by combined users before recommending merchant\n",
    "Threshold_Num_MeanAmt = 10 #minimum average of $10 must be spent by combined users before recommending merchant"
   ]
  },
  {
   "cell_type": "markdown",
   "metadata": {},
   "source": [
    "#### Reading CSV file of the dataframe created at the end of EDA (eda_df.csv)"
   ]
  },
  {
   "cell_type": "code",
   "execution_count": 6,
   "metadata": {},
   "outputs": [],
   "source": [
    "df1_rec=pd.read_csv(PATH_TO_DATA)\n",
    "# Reseting index to integer from datatime\n",
    "df1_rec=df1_rec.reset_index(drop=True)\n",
    "#Changing name of col 'simple_description' to 'merchant'\n",
    "df1_rec.rename(columns={\"simple_description\": \"merchant\"}, inplace=True) "
   ]
  },
  {
   "cell_type": "code",
   "execution_count": 7,
   "metadata": {},
   "outputs": [
    {
     "data": {
      "text/html": [
       "<div>\n",
       "<style scoped>\n",
       "    .dataframe tbody tr th:only-of-type {\n",
       "        vertical-align: middle;\n",
       "    }\n",
       "\n",
       "    .dataframe tbody tr th {\n",
       "        vertical-align: top;\n",
       "    }\n",
       "\n",
       "    .dataframe thead th {\n",
       "        text-align: right;\n",
       "    }\n",
       "</style>\n",
       "<table border=\"1\" class=\"dataframe\">\n",
       "  <thead>\n",
       "    <tr style=\"text-align: right;\">\n",
       "      <th></th>\n",
       "      <th>date</th>\n",
       "      <th>uid</th>\n",
       "      <th>category</th>\n",
       "      <th>categoryid</th>\n",
       "      <th>merchant</th>\n",
       "      <th>amountnum</th>\n",
       "      <th>city</th>\n",
       "      <th>state</th>\n",
       "      <th>zip_code</th>\n",
       "      <th>address</th>\n",
       "      <th>latitude</th>\n",
       "      <th>longitude</th>\n",
       "      <th>accountid</th>\n",
       "    </tr>\n",
       "  </thead>\n",
       "  <tbody>\n",
       "    <tr>\n",
       "      <th>0</th>\n",
       "      <td>2020-08-20</td>\n",
       "      <td>WdtUjyA3mghZ6TrphronQpCVrI23</td>\n",
       "      <td>Entertainment</td>\n",
       "      <td>7.0</td>\n",
       "      <td>sirius xm</td>\n",
       "      <td>20.63</td>\n",
       "      <td>NaN</td>\n",
       "      <td>NaN</td>\n",
       "      <td>NaN</td>\n",
       "      <td>NaN</td>\n",
       "      <td>NaN</td>\n",
       "      <td>NaN</td>\n",
       "      <td>10038937.0</td>\n",
       "    </tr>\n",
       "    <tr>\n",
       "      <th>1</th>\n",
       "      <td>2020-08-20</td>\n",
       "      <td>WdtUjyA3mghZ6TrphronQpCVrI23</td>\n",
       "      <td>Restaurants/Dining</td>\n",
       "      <td>22.0</td>\n",
       "      <td>*pending debit aug20 p 2818at buona glen ellyn...</td>\n",
       "      <td>20.69</td>\n",
       "      <td>Glen Ellyn</td>\n",
       "      <td>NaN</td>\n",
       "      <td>NaN</td>\n",
       "      <td>NaN</td>\n",
       "      <td>NaN</td>\n",
       "      <td>NaN</td>\n",
       "      <td>10038937.0</td>\n",
       "    </tr>\n",
       "    <tr>\n",
       "      <th>2</th>\n",
       "      <td>2020-08-20</td>\n",
       "      <td>WdtUjyA3mghZ6TrphronQpCVrI23</td>\n",
       "      <td>Groceries</td>\n",
       "      <td>10.0</td>\n",
       "      <td>the beer cellar</td>\n",
       "      <td>28.51</td>\n",
       "      <td>Glen Ellyn</td>\n",
       "      <td>NaN</td>\n",
       "      <td>NaN</td>\n",
       "      <td>NaN</td>\n",
       "      <td>NaN</td>\n",
       "      <td>NaN</td>\n",
       "      <td>10038937.0</td>\n",
       "    </tr>\n",
       "    <tr>\n",
       "      <th>3</th>\n",
       "      <td>2020-08-20</td>\n",
       "      <td>WdtUjyA3mghZ6TrphronQpCVrI23</td>\n",
       "      <td>Entertainment</td>\n",
       "      <td>7.0</td>\n",
       "      <td>disney plus</td>\n",
       "      <td>6.99</td>\n",
       "      <td>NaN</td>\n",
       "      <td>CA</td>\n",
       "      <td>NaN</td>\n",
       "      <td>NaN</td>\n",
       "      <td>NaN</td>\n",
       "      <td>NaN</td>\n",
       "      <td>10038937.0</td>\n",
       "    </tr>\n",
       "    <tr>\n",
       "      <th>4</th>\n",
       "      <td>2020-08-20</td>\n",
       "      <td>WdtUjyA3mghZ6TrphronQpCVrI23</td>\n",
       "      <td>Restaurants/Dining</td>\n",
       "      <td>22.0</td>\n",
       "      <td>p #2818christ cafe 95 oak lawn il x0232</td>\n",
       "      <td>1.09</td>\n",
       "      <td>Oak Lawn</td>\n",
       "      <td>IL</td>\n",
       "      <td>NaN</td>\n",
       "      <td>NaN</td>\n",
       "      <td>NaN</td>\n",
       "      <td>NaN</td>\n",
       "      <td>10038937.0</td>\n",
       "    </tr>\n",
       "    <tr>\n",
       "      <th>...</th>\n",
       "      <td>...</td>\n",
       "      <td>...</td>\n",
       "      <td>...</td>\n",
       "      <td>...</td>\n",
       "      <td>...</td>\n",
       "      <td>...</td>\n",
       "      <td>...</td>\n",
       "      <td>...</td>\n",
       "      <td>...</td>\n",
       "      <td>...</td>\n",
       "      <td>...</td>\n",
       "      <td>...</td>\n",
       "      <td>...</td>\n",
       "    </tr>\n",
       "    <tr>\n",
       "      <th>52257</th>\n",
       "      <td>2019-09-01</td>\n",
       "      <td>gg95CpaLypcaAzGvF9fGqmF6W2w1</td>\n",
       "      <td>Clothing/Shoes</td>\n",
       "      <td>5.0</td>\n",
       "      <td>nordstrom rack</td>\n",
       "      <td>90.04</td>\n",
       "      <td>Westminster</td>\n",
       "      <td>NaN</td>\n",
       "      <td>NaN</td>\n",
       "      <td>NaN</td>\n",
       "      <td>NaN</td>\n",
       "      <td>NaN</td>\n",
       "      <td>10009118.0</td>\n",
       "    </tr>\n",
       "    <tr>\n",
       "      <th>52258</th>\n",
       "      <td>2019-09-01</td>\n",
       "      <td>gg95CpaLypcaAzGvF9fGqmF6W2w1</td>\n",
       "      <td>General Merchandise</td>\n",
       "      <td>44.0</td>\n",
       "      <td>costco</td>\n",
       "      <td>73.42</td>\n",
       "      <td>Thornton</td>\n",
       "      <td>CO</td>\n",
       "      <td>80233</td>\n",
       "      <td>NaN</td>\n",
       "      <td>NaN</td>\n",
       "      <td>NaN</td>\n",
       "      <td>10009118.0</td>\n",
       "    </tr>\n",
       "    <tr>\n",
       "      <th>52259</th>\n",
       "      <td>2019-09-01</td>\n",
       "      <td>qy4wWJHVBMYbF3GnaQKCAsMej6k2</td>\n",
       "      <td>Entertainment</td>\n",
       "      <td>7.0</td>\n",
       "      <td>itunes store</td>\n",
       "      <td>5.36</td>\n",
       "      <td>NaN</td>\n",
       "      <td>NaN</td>\n",
       "      <td>NaN</td>\n",
       "      <td>NaN</td>\n",
       "      <td>NaN</td>\n",
       "      <td>NaN</td>\n",
       "      <td>10019665.0</td>\n",
       "    </tr>\n",
       "    <tr>\n",
       "      <th>52260</th>\n",
       "      <td>2019-09-01</td>\n",
       "      <td>qy4wWJHVBMYbF3GnaQKCAsMej6k2</td>\n",
       "      <td>Clothing/Shoes</td>\n",
       "      <td>5.0</td>\n",
       "      <td>2ohio state u 9x8240columbus oh xx4798</td>\n",
       "      <td>16.00</td>\n",
       "      <td>Columbus</td>\n",
       "      <td>OH</td>\n",
       "      <td>NaN</td>\n",
       "      <td>NaN</td>\n",
       "      <td>NaN</td>\n",
       "      <td>NaN</td>\n",
       "      <td>10019665.0</td>\n",
       "    </tr>\n",
       "    <tr>\n",
       "      <th>52261</th>\n",
       "      <td>2019-09-01</td>\n",
       "      <td>qy4wWJHVBMYbF3GnaQKCAsMej6k2</td>\n",
       "      <td>Groceries</td>\n",
       "      <td>10.0</td>\n",
       "      <td>beer barrel</td>\n",
       "      <td>31.68</td>\n",
       "      <td>Columbus</td>\n",
       "      <td>OH</td>\n",
       "      <td>NaN</td>\n",
       "      <td>NaN</td>\n",
       "      <td>NaN</td>\n",
       "      <td>NaN</td>\n",
       "      <td>10019665.0</td>\n",
       "    </tr>\n",
       "  </tbody>\n",
       "</table>\n",
       "<p>52262 rows × 13 columns</p>\n",
       "</div>"
      ],
      "text/plain": [
       "             date                           uid             category  \\\n",
       "0      2020-08-20  WdtUjyA3mghZ6TrphronQpCVrI23        Entertainment   \n",
       "1      2020-08-20  WdtUjyA3mghZ6TrphronQpCVrI23   Restaurants/Dining   \n",
       "2      2020-08-20  WdtUjyA3mghZ6TrphronQpCVrI23            Groceries   \n",
       "3      2020-08-20  WdtUjyA3mghZ6TrphronQpCVrI23        Entertainment   \n",
       "4      2020-08-20  WdtUjyA3mghZ6TrphronQpCVrI23   Restaurants/Dining   \n",
       "...           ...                           ...                  ...   \n",
       "52257  2019-09-01  gg95CpaLypcaAzGvF9fGqmF6W2w1       Clothing/Shoes   \n",
       "52258  2019-09-01  gg95CpaLypcaAzGvF9fGqmF6W2w1  General Merchandise   \n",
       "52259  2019-09-01  qy4wWJHVBMYbF3GnaQKCAsMej6k2        Entertainment   \n",
       "52260  2019-09-01  qy4wWJHVBMYbF3GnaQKCAsMej6k2       Clothing/Shoes   \n",
       "52261  2019-09-01  qy4wWJHVBMYbF3GnaQKCAsMej6k2            Groceries   \n",
       "\n",
       "       categoryid                                           merchant  \\\n",
       "0             7.0                                          sirius xm   \n",
       "1            22.0  *pending debit aug20 p 2818at buona glen ellyn...   \n",
       "2            10.0                                    the beer cellar   \n",
       "3             7.0                                        disney plus   \n",
       "4            22.0            p #2818christ cafe 95 oak lawn il x0232   \n",
       "...           ...                                                ...   \n",
       "52257         5.0                                     nordstrom rack   \n",
       "52258        44.0                                             costco   \n",
       "52259         7.0                                       itunes store   \n",
       "52260         5.0             2ohio state u 9x8240columbus oh xx4798   \n",
       "52261        10.0                                        beer barrel   \n",
       "\n",
       "       amountnum         city state zip_code address  latitude  longitude  \\\n",
       "0          20.63          NaN   NaN      NaN     NaN       NaN        NaN   \n",
       "1          20.69   Glen Ellyn   NaN      NaN     NaN       NaN        NaN   \n",
       "2          28.51   Glen Ellyn   NaN      NaN     NaN       NaN        NaN   \n",
       "3           6.99          NaN    CA      NaN     NaN       NaN        NaN   \n",
       "4           1.09     Oak Lawn    IL      NaN     NaN       NaN        NaN   \n",
       "...          ...          ...   ...      ...     ...       ...        ...   \n",
       "52257      90.04  Westminster   NaN      NaN     NaN       NaN        NaN   \n",
       "52258      73.42     Thornton    CO    80233     NaN       NaN        NaN   \n",
       "52259       5.36          NaN   NaN      NaN     NaN       NaN        NaN   \n",
       "52260      16.00     Columbus    OH      NaN     NaN       NaN        NaN   \n",
       "52261      31.68     Columbus    OH      NaN     NaN       NaN        NaN   \n",
       "\n",
       "        accountid  \n",
       "0      10038937.0  \n",
       "1      10038937.0  \n",
       "2      10038937.0  \n",
       "3      10038937.0  \n",
       "4      10038937.0  \n",
       "...           ...  \n",
       "52257  10009118.0  \n",
       "52258  10009118.0  \n",
       "52259  10019665.0  \n",
       "52260  10019665.0  \n",
       "52261  10019665.0  \n",
       "\n",
       "[52262 rows x 13 columns]"
      ]
     },
     "execution_count": 7,
     "metadata": {},
     "output_type": "execute_result"
    }
   ],
   "source": [
    "df1_rec"
   ]
  },
  {
   "cell_type": "markdown",
   "metadata": {},
   "source": [
    "### Cleaning some obvious \"oops\" in merchant (aka simple_description) field like the word pending or visa infront of merchant names etc."
   ]
  },
  {
   "cell_type": "code",
   "execution_count": 8,
   "metadata": {},
   "outputs": [],
   "source": [
    "rest_list=[]\n",
    "for merch in df1_rec.merchant:\n",
    "    if ((merch[0:8]=='*pending')):\n",
    "        rest_list.append(merch[30:])\n",
    "    elif (merch[0:7]=='pending'):\n",
    "        rest_list.append(merch[23:])\n",
    "    elif (merch[0:2]=='p '):\n",
    "        rest_list.append(merch[11:25])\n",
    "    elif (merch[0:2]=='pp'):\n",
    "        rest_list.append(merch[3:])\n",
    "    elif (merch[0:2]=='a '):\n",
    "        rest_list.append(merch[7:])\n",
    "    elif (merch[0:8]=='visa pp*'):\n",
    "        rest_list.append(merch[8:])\n",
    "    elif (merch[0:7]=='visa sq'):\n",
    "        rest_list.append(merch[9:])\n",
    "    elif (merch[0:4]=='visa'):\n",
    "        rest_list.append(merch[5:26])\n",
    "    elif (merch[0:2]=='sq'):\n",
    "        rest_list.append(merch[4:])\n",
    "    elif (merch[0:2]=='sp'):\n",
    "        rest_list.append(merch[5:])\n",
    "    else:\n",
    "        rest_list.append(merch)\n",
    "        \n",
    "#rest_list #visa visa pp* 'sq, visa jefes tacos & tequila 'yonah mountain fridas mexican zucca bar ziggy tandur indi, not just coffe, winot coffee, christ cafe\n",
    "sorted(rest_list)\n",
    "df1_rec.reset_index(inplace=True, drop=True)\n",
    "df1_rec['merchant']=rest_list"
   ]
  },
  {
   "cell_type": "markdown",
   "metadata": {},
   "source": [
    "#### Dropping some more 'merchants' as those look like mistakes or not real merchants."
   ]
  },
  {
   "cell_type": "code",
   "execution_count": 9,
   "metadata": {},
   "outputs": [],
   "source": [
    "#Deleting all the merchant records from all of the categories that are not needed\n",
    "\n",
    "deleteList=['ssp*rockymoutnain kung fuxx2839 co', 'brewing *******et', 'bethel university','apple.com/bill',\\\n",
    "            'amazon *******etplace','amazon.com','amazon prime video',\\\n",
    "            'ach transaction - qapital transfer 0007392303', 'ach transaction - qapital invest l ach 0007100028',\\\n",
    "            'direct withdrawal','travel','qoins','venmo','porkbun com portland us', 'otis craft collect lafayette us',\\\n",
    "            'live your life integratedxx5229 us', 'paypal','webflow com', 'visible service llc','nzb.su httpsnzb.su fl',\\\n",
    "            'premier1 supplies xx7622 ia','premier1 supplies xx7622 us','home depot',\"fisk's 'farm & home suppl decorah ia\",\\\n",
    "            \"dbt mcguckin hardwar |mcguckin hardware boulder co us|card nbr: 0853\",'flying b bar ranch llc xx06 co',\\\n",
    "            'front range eye health louisville co', 'mini miners pediatric erie us','chpg primary care erie erie co',\\\n",
    "            'mini miners pediatric denerie co','lombard direct']\n",
    "\n",
    "df1_rec=merchCleanup(df1_rec,deleteList)"
   ]
  },
  {
   "cell_type": "code",
   "execution_count": 10,
   "metadata": {},
   "outputs": [],
   "source": [
    "dict_startswith={'costco gas stations':'costco gas station',\"\\'circle k']\":'circle k'}\n",
    "for k,v in dict_startswith.items():\n",
    "    df1copy=df1_rec.copy()\n",
    "    mask=(df1copy.merchant.str.startswith(k))\n",
    "    df1copy['merchant']=np.where(mask,v,df1copy.merchant)\n",
    "    df1_rec=df1copy"
   ]
  },
  {
   "cell_type": "code",
   "execution_count": 11,
   "metadata": {},
   "outputs": [
    {
     "name": "stdout",
     "output_type": "stream",
     "text": [
      "<class 'pandas.core.frame.DataFrame'>\n",
      "RangeIndex: 48811 entries, 0 to 48810\n",
      "Data columns (total 13 columns):\n",
      " #   Column      Non-Null Count  Dtype  \n",
      "---  ------      --------------  -----  \n",
      " 0   date        48811 non-null  object \n",
      " 1   uid         48811 non-null  object \n",
      " 2   category    48811 non-null  object \n",
      " 3   categoryid  48811 non-null  float64\n",
      " 4   merchant    48811 non-null  object \n",
      " 5   amountnum   48811 non-null  float64\n",
      " 6   city        19808 non-null  object \n",
      " 7   state       24375 non-null  object \n",
      " 8   zip_code    12974 non-null  object \n",
      " 9   address     8959 non-null   object \n",
      " 10  latitude    9061 non-null   float64\n",
      " 11  longitude   9061 non-null   float64\n",
      " 12  accountid   48811 non-null  float64\n",
      "dtypes: float64(5), object(8)\n",
      "memory usage: 4.8+ MB\n"
     ]
    }
   ],
   "source": [
    "df1_rec.info() #48811 non-null entries"
   ]
  },
  {
   "cell_type": "markdown",
   "metadata": {},
   "source": [
    "#########################################################################################################################"
   ]
  },
  {
   "cell_type": "markdown",
   "metadata": {},
   "source": [
    "## Goal # 1: Collaborative Filtering. \n",
    "Question for Ana: is it content based filtering or collaborative?\n",
    "\n",
    "## Recommending merchants based on other similar merchants. "
   ]
  },
  {
   "cell_type": "markdown",
   "metadata": {},
   "source": [
    "I will focus on extracting merchants from one category at a time and focusing only on top 10-15 (per Clair's advise) merchants/category"
   ]
  },
  {
   "cell_type": "code",
   "execution_count": 12,
   "metadata": {},
   "outputs": [
    {
     "data": {
      "text/plain": [
       "category\n",
       "Restaurants/Dining          8261\n",
       "Shops                       6021\n",
       "General Merchandise         5498\n",
       "Groceries                   4707\n",
       "Service                     4064\n",
       "Travel                      3662\n",
       "Food and Drink              2836\n",
       "Clothing/Shoes              1749\n",
       "Entertainment               1576\n",
       "Online Services             1522\n",
       "Gasoline/Fuel               1347\n",
       "Home Improvement            1091\n",
       "Healthcare/Medical           970\n",
       "Personal Care                656\n",
       "Electronics                  583\n",
       "Utilities                    566\n",
       "Hobbies                      556\n",
       "Service Charges/Fees         352\n",
       "Automotive Expenses          341\n",
       "Telephone Services           317\n",
       "Cable/Satellite Services     315\n",
       "Pets/Pet Care                302\n",
       "Community                    255\n",
       "Education                    223\n",
       "Recreation                   220\n",
       "Postage and Shipping         199\n",
       "Dues and Subscriptions       176\n",
       "Home Maintenance             111\n",
       "Gifts                        105\n",
       "Healthcare                    98\n",
       "Office Supplies               63\n",
       "Child/Dependent Expenses      55\n",
       "Advertising                   14\n",
       "Name: category, dtype: int64"
      ]
     },
     "execution_count": 12,
     "metadata": {},
     "output_type": "execute_result"
    }
   ],
   "source": [
    "#Finding what are the top categories (with >900 rows)\n",
    "df1_rec.groupby(['category'])['category'].count().sort_values(ascending=False)"
   ]
  },
  {
   "cell_type": "markdown",
   "metadata": {},
   "source": [
    "#### The recommendation system code here is only coded for and tested for categories with > 900 records except for Online Services:\n",
    "\n",
    "#### Restaurants/Dining, Shops, General Merchandise, Service, Groceries, Travel, Food and Drink, Clothing/Shoes, Entertainment,      Gasoline/Fuel, Home Improvement, Healthcare/Medical"
   ]
  },
  {
   "cell_type": "code",
   "execution_count": 13,
   "metadata": {},
   "outputs": [
    {
     "data": {
      "text/plain": [
       "{'Automotive Expenses': 2.0,\n",
       " 'Child/Dependent Expenses': 4.0,\n",
       " 'Clothing/Shoes': 5.0,\n",
       " 'Education': 6.0,\n",
       " 'Entertainment': 7.0,\n",
       " 'Gasoline/Fuel': 8.0,\n",
       " 'Gifts': 9.0,\n",
       " 'Groceries': 10.0,\n",
       " 'Healthcare/Medical': 11.0,\n",
       " 'Home Maintenance': 12.0,\n",
       " 'Home Improvement': 13.0,\n",
       " 'Cable/Satellite Services': 15.0,\n",
       " 'Online Services': 16.0,\n",
       " 'Personal Care': 20.0,\n",
       " 'Restaurants/Dining': 22.0,\n",
       " 'Travel': 23.0,\n",
       " 'Service Charges/Fees': 24.0,\n",
       " 'Hobbies': 34.0,\n",
       " 'Telephone Services': 38.0,\n",
       " 'Utilities': 39.0,\n",
       " 'Pets/Pet Care': 42.0,\n",
       " 'Electronics': 43.0,\n",
       " 'General Merchandise': 44.0,\n",
       " 'Office Supplies': 45.0,\n",
       " 'Advertising': 100.0,\n",
       " 'Postage and Shipping': 104.0,\n",
       " 'Dues and Subscriptions': 108.0,\n",
       " 'Shops': 201.0,\n",
       " 'Service': 202.0,\n",
       " 'Food and Drink': 203.0,\n",
       " 'Healthcare': 204.0,\n",
       " 'Community': 205.0,\n",
       " 'Recreation': 206.0}"
      ]
     },
     "execution_count": 13,
     "metadata": {},
     "output_type": "execute_result"
    }
   ],
   "source": [
    "#creating dictionary with category as Key and categoryid as Value.\n",
    "cat_catid_dict=df1_rec[['categoryid','category']].groupby('category')['categoryid'].first().to_dict()\n",
    "{k: v for k, v in sorted(cat_catid_dict.items(), key=lambda item: item[1])}"
   ]
  },
  {
   "cell_type": "markdown",
   "metadata": {},
   "source": [
    "### 1. Selecting  a category to evaluate the recommendation engine code\n",
    "For now I am taking input to a \"currentCat\" variable to determine which category code needs to be executed.\n",
    "Default category is \"Resturants/Dining\""
   ]
  },
  {
   "cell_type": "code",
   "execution_count": 14,
   "metadata": {},
   "outputs": [
    {
     "name": "stdout",
     "output_type": "stream",
     "text": [
      "Category?Shops\n"
     ]
    },
    {
     "data": {
      "text/plain": [
       "201.0"
      ]
     },
     "execution_count": 14,
     "metadata": {},
     "output_type": "execute_result"
    }
   ],
   "source": [
    "currentCat=input('Category?') #This will come from outside of this code!\n",
    "\n",
    "if currentCat=='': #if left empty code will run for resturant/dining by default\n",
    "    currentCatid=22.0\n",
    "    currentCat='Restaurants/Dining'\n",
    "else:\n",
    "    currentCatid=cat_catid_dict[currentCat] #getting value with the key assigned to variable currentCat from cat_catid_dict created above\n",
    "currentCatid"
   ]
  },
  {
   "cell_type": "markdown",
   "metadata": {},
   "source": [
    "#### Display top merchant list of the current category id"
   ]
  },
  {
   "cell_type": "code",
   "execution_count": 15,
   "metadata": {},
   "outputs": [
    {
     "name": "stdout",
     "output_type": "stream",
     "text": [
      "______________________________________________________________\n",
      "Showing top merchants from category ---  Shops\n",
      "______________________________________________________________\n"
     ]
    },
    {
     "data": {
      "text/plain": [
       "['amazon',\n",
       " 'walmart',\n",
       " 'kroger',\n",
       " 'target',\n",
       " 'publix',\n",
       " 'cvs',\n",
       " 'walgreens',\n",
       " 'costco',\n",
       " '7-eleven',\n",
       " \"lowe's\",\n",
       " 'fred meyer',\n",
       " 'dollar general',\n",
       " 'safeway',\n",
       " 'whole foods',\n",
       " \"trader joe's\"]"
      ]
     },
     "execution_count": 15,
     "metadata": {},
     "output_type": "execute_result"
    }
   ],
   "source": [
    "#Current top 15 merchants in the selected category (using currentCatid)\n",
    "#This cell shows what top15 looks like before deleting some that don't make sense in the next step\n",
    "print(\"______________________________________________________________\")\n",
    "print(\"Showing top merchants from category ---  {}\".format(currentCat))\n",
    "print(\"______________________________________________________________\")\n",
    "top_merch_list=top_merch(df1_rec,currentCatid,15)\n",
    "top_merch_list"
   ]
  },
  {
   "cell_type": "markdown",
   "metadata": {},
   "source": [
    "#### 2.Creating DF of all the <u>remaining</u> records of the current chosen cateogry\n",
    "##### (df1_rec_category)"
   ]
  },
  {
   "cell_type": "code",
   "execution_count": 16,
   "metadata": {},
   "outputs": [],
   "source": [
    "df1_rec_category=createCatDF(df1_rec, currentCatid, top_merch_list)"
   ]
  },
  {
   "cell_type": "markdown",
   "metadata": {},
   "source": [
    "#### 3.Collecting(input) a merchant from selected category for checking model accuracy \n",
    "##### (merchant_user_visited)"
   ]
  },
  {
   "cell_type": "code",
   "execution_count": 17,
   "metadata": {},
   "outputs": [
    {
     "name": "stdout",
     "output_type": "stream",
     "text": [
      "Please select one of the merchants from this list. \n",
      "['amazon', 'walmart', 'kroger', 'target', 'publix', 'cvs', 'walgreens', 'costco', '7-eleven', \"lowe's\", 'fred meyer', 'dollar general', 'safeway', 'whole foods', \"trader joe's\"]fred meyer\n"
     ]
    }
   ],
   "source": [
    " merchant_user_visited=takeInputMerch(currentCatid,df1_rec_category,top_merch_list)"
   ]
  },
  {
   "cell_type": "markdown",
   "metadata": {},
   "source": [
    "#### 4. Creating filters \n",
    "##### (count_per_merch) \n",
    "(1) popularity (number of visits by users) of other similar merchants\n",
    "\n",
    "##### (meanamt_per_merch)\n",
    "(2) mean amount (dollars) spent by other users at the similar merchants "
   ]
  },
  {
   "cell_type": "code",
   "execution_count": 18,
   "metadata": {},
   "outputs": [],
   "source": [
    "count_per_merch, meanamt_per_merch = filters(currentCatid,df1_rec_category, top_merch_list)"
   ]
  },
  {
   "cell_type": "markdown",
   "metadata": {},
   "source": [
    "#### 5. Create sparse matrix of all user ids (uid) and merchants (merchants) of the specific category \n",
    "##### (df1_rec_merch_count_mtx)"
   ]
  },
  {
   "cell_type": "code",
   "execution_count": 19,
   "metadata": {},
   "outputs": [],
   "source": [
    "#SparceMatrix\n",
    "df1_rec_merch_count_mtx=df1_rec_category.pivot_table(index='uid',columns='merchant', values='amountnum',\\\n",
    "                                                         aggfunc='count', fill_value=0)"
   ]
  },
  {
   "cell_type": "markdown",
   "metadata": {},
   "source": [
    "#### 6. Create a series showing number of visits users made to the current merchant(merchant_popularity_count)"
   ]
  },
  {
   "cell_type": "code",
   "execution_count": 20,
   "metadata": {},
   "outputs": [],
   "source": [
    "#Merchant populaity matrix\n",
    "merchant_popularity_count=df1_rec_merch_count_mtx[merchant_user_visited] #How many times each user visited the \"merchant_user_visited\""
   ]
  },
  {
   "cell_type": "markdown",
   "metadata": {},
   "source": [
    "### 8. Building Model"
   ]
  },
  {
   "cell_type": "markdown",
   "metadata": {},
   "source": [
    "### Evaluating Similarity Based on Pearson Correlation OR Cosine Similarity Score"
   ]
  },
  {
   "cell_type": "markdown",
   "metadata": {},
   "source": [
    "#### 1 (a) . Compute Pearson Correlation\n",
    "Using Pandas 'dataframe.corrwith()' method compute pairwise correlation between rows of two dataframes, df1_rec_merch_count_mtx and 'merchant_popularity_count'. This will produce a series with numbers between 0-1, showing correlation between all the merchants and the merchant_user_visited. Closer the score is to 1, greater is the correlation between the two entities. \n",
    "\n",
    "#### 1 (b) . Compute Cosine Similarity \n",
    "Using sklearn.metrics.pairwise submodule's function, cosine_similarity, compute similarities between all the merchants. The result is a nxn sparse matrix, where n is total number of merchants in a refined category data. A number closer to 1 shows high similarity and a number close to 0 shows less similarity between the merchants.\n",
    "\n",
    "#### 2. Filering\n",
    "Using Thresholds for Pearson Score, along with Thresholds for the filters created before (count_per_merch and meanamt_per_merch), filtter out the rows (merchants) that fall within those boundaries. \n",
    "\n",
    "#### 3. Recommendations:\n",
    "        (1) Recommend up to top 3 merchants that are most similar to the current merchant."
   ]
  },
  {
   "cell_type": "markdown",
   "metadata": {},
   "source": [
    "#### Pearson Similarity Results Only"
   ]
  },
  {
   "cell_type": "code",
   "execution_count": 21,
   "metadata": {},
   "outputs": [
    {
     "name": "stdout",
     "output_type": "stream",
     "text": [
      "Other merchants you may like []\n"
     ]
    }
   ],
   "source": [
    "recommendationSystem(merchant_user_visited,'Pearson',df1_rec_merch_count_mtx,merchant_popularity_count,\n",
    "                     count_per_merch, meanamt_per_merch,Threshold_Sim_Score, Threshold_Num_MeanAmt, Threshold_Num_Visit,top_merch_list)"
   ]
  },
  {
   "cell_type": "code",
   "execution_count": 22,
   "metadata": {},
   "outputs": [
    {
     "name": "stdout",
     "output_type": "stream",
     "text": [
      "Other merchants you may like ['7-eleven']\n"
     ]
    }
   ],
   "source": [
    "recommendationSystem(merchant_user_visited,'Cosine',df1_rec_merch_count_mtx,merchant_popularity_count,\n",
    "                     count_per_merch, meanamt_per_merch,Threshold_Sim_Score, Threshold_Num_MeanAmt, Threshold_Num_Visit,top_merch_list)"
   ]
  },
  {
   "cell_type": "code",
   "execution_count": null,
   "metadata": {},
   "outputs": [],
   "source": []
  },
  {
   "cell_type": "markdown",
   "metadata": {},
   "source": [
    "#### Cosine Similarity Results Only"
   ]
  },
  {
   "cell_type": "code",
   "execution_count": 23,
   "metadata": {},
   "outputs": [
    {
     "name": "stdout",
     "output_type": "stream",
     "text": [
      "Other merchants you may like ['7-eleven']\n"
     ]
    }
   ],
   "source": [
    "recommendationSystem(merchant_user_visited,'Cosine',df1_rec_merch_count_mtx,merchant_popularity_count, \\\n",
    "                     count_per_merch, meanamt_per_merch, Threshold_Sim_Score, Threshold_Num_MeanAmt, \\\n",
    "                     Threshold_Num_Visit,top_merch_list)"
   ]
  },
  {
   "cell_type": "markdown",
   "metadata": {},
   "source": [
    "#### Combined logic Using Cosine And Pearson Similarity"
   ]
  },
  {
   "cell_type": "markdown",
   "metadata": {},
   "source": [
    "#### 1 . Compute Cosine and Pearsom Similarity \n",
    "Both Cosine and Pearson Similarities are calculated. The final recommendation are devised based on:\n",
    "\n",
    ".If cosine similarity resulted in 3 or more merchants --> Show recommendations from cosine similarity results\n",
    "\n",
    ".If cosine similarity resuled in < 3 and pearson similarity resulted in < 3 merchants --> Show recommendations by join both results \n",
    "\n",
    ".If cosine similarity resulted in 0 merchants --> Show recommendations from pearson similarity results\n",
    "\n",
    "#### Note: filters count_per_merch and meanamt_per_merch will remain the same and will used in same way as explained before\n",
    " "
   ]
  },
  {
   "cell_type": "code",
   "execution_count": 24,
   "metadata": {},
   "outputs": [
    {
     "name": "stdout",
     "output_type": "stream",
     "text": [
      "Other merchants you may like ['7-eleven']\n"
     ]
    }
   ],
   "source": [
    "recommendationSystem_CosineAndPearson(merchant_user_visited,df1_rec_merch_count_mtx,merchant_popularity_count,count_per_merch,meanamt_per_merch,\\\n",
    "                                          Threshold_Sim_Score,Threshold_Num_MeanAmt,Threshold_Num_Visit,top_merch_list)"
   ]
  },
  {
   "cell_type": "markdown",
   "metadata": {},
   "source": [
    "### The End!"
   ]
  },
  {
   "cell_type": "code",
   "execution_count": null,
   "metadata": {},
   "outputs": [],
   "source": []
  }
 ],
 "metadata": {
  "kernelspec": {
   "display_name": "Python 3",
   "language": "python",
   "name": "python3"
  },
  "language_info": {
   "codemirror_mode": {
    "name": "ipython",
    "version": 3
   },
   "file_extension": ".py",
   "mimetype": "text/x-python",
   "name": "python",
   "nbconvert_exporter": "python",
   "pygments_lexer": "ipython3",
   "version": "3.7.6"
  }
 },
 "nbformat": 4,
 "nbformat_minor": 4
}
