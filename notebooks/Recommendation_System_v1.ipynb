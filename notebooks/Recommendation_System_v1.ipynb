{
 "cells": [
  {
   "cell_type": "code",
   "execution_count": 2,
   "metadata": {
    "scrolled": false
   },
   "outputs": [],
   "source": [
    "import pandas as pd\n",
    "from EDA import df1\n",
    "import numpy as np\n",
    "from eda_helper import rows_to_del_with_index\n",
    "from eda_helper import createExcel\n",
    "from sklearn.metrics.pairwise import cosine_similarity\n",
    "from recomm_sys_v1_helper import top_merch\n",
    "from recomm_sys_v1_helper import merchCleanup\n",
    "from recomm_sys_v1_helper import createCatDF\n",
    "from recomm_sys_v1_helper import takeInputMerch\n",
    "from recomm_sys_v1_helper import takeInputUser\n",
    "from recomm_sys_v1_helper import filter1_count_per_merch\n",
    "from recomm_sys_v1_helper import filter2_meanamt_per_merch\n",
    "from recomm_sys_v1_helper import rec_df_merch_list\n",
    "from recomm_sys_v1_helper import filters\n",
    "from recomm_sys_v1_helper import sparseMtx\n",
    "from recomm_sys_v1_helper import recommendationSystem"
   ]
  },
  {
   "cell_type": "code",
   "execution_count": 3,
   "metadata": {},
   "outputs": [],
   "source": [
    "#Thresholds for filtering results from the recommendation engine\n",
    "Threshold_P = 0.1\n",
    "Threshold_C = 0.7\n",
    "Threshold_Cosine=0.6\n",
    "Threshold_Num_Visit = 6\n",
    "Threshold_Num_MeanAmt = 10"
   ]
  },
  {
   "cell_type": "code",
   "execution_count": 4,
   "metadata": {},
   "outputs": [],
   "source": [
    "df1_rec=df1 #creating copy of dataframe for recommendation notebook\n",
    "#df1_rec.info() #52262 entries - datetime indexed"
   ]
  },
  {
   "cell_type": "code",
   "execution_count": 5,
   "metadata": {},
   "outputs": [],
   "source": [
    "df1_rec=df1_rec.reset_index() #changing index to int\n",
    "df1_rec.rename(columns={\"simple_description\": \"merchant\"}, inplace=True) #renaming column 'simple_description' to 'merchant'\n",
    "\n",
    "#df1_rec.head()"
   ]
  },
  {
   "cell_type": "code",
   "execution_count": 6,
   "metadata": {},
   "outputs": [],
   "source": [
    "#numRecord_per_cat=df1_rec.groupby(['category','categoryid'])['merchant'].count().to_frame()\n",
    "#numRecord_per_cat.sort_values('merchant', ascending=False)"
   ]
  },
  {
   "cell_type": "markdown",
   "metadata": {},
   "source": [
    "### Cleaning some obvious \"oops\" in merchant (aka simple_description) field like the word pending or visa infront of merchant names etc."
   ]
  },
  {
   "cell_type": "code",
   "execution_count": 7,
   "metadata": {},
   "outputs": [],
   "source": [
    "rest_list=[]\n",
    "for merch in df1_rec.merchant:\n",
    "    if ((merch[0:8]=='*pending')):\n",
    "        rest_list.append(merch[30:])\n",
    "    elif (merch[0:7]=='pending'):\n",
    "        rest_list.append(merch[23:])\n",
    "    elif (merch[0:2]=='p '):\n",
    "        rest_list.append(merch[11:25])\n",
    "    elif (merch[0:2]=='pp'):\n",
    "        rest_list.append(merch[3:])\n",
    "    elif (merch[0:2]=='a '):\n",
    "        rest_list.append(merch[7:])\n",
    "    elif (merch[0:8]=='visa pp*'):\n",
    "        rest_list.append(merch[8:])\n",
    "    elif (merch[0:7]=='visa sq'):\n",
    "        rest_list.append(merch[9:])\n",
    "    elif (merch[0:4]=='visa'):\n",
    "        rest_list.append(merch[5:26])\n",
    "    elif (merch[0:2]=='sq'):\n",
    "        rest_list.append(merch[4:])\n",
    "    elif (merch[0:2]=='sp'):\n",
    "        rest_list.append(merch[5:])\n",
    "    else:\n",
    "        rest_list.append(merch)\n",
    "        \n",
    "#rest_list #visa visa pp* 'sq, visa jefes tacos & tequila 'yonah mountain fridas mexican zucca bar ziggy tandur indi, not just coffe, winot coffee, christ cafe\n",
    "sorted(rest_list)\n",
    "df1_rec.reset_index(inplace=True, drop=True)\n",
    "df1_rec['merchant']=rest_list"
   ]
  },
  {
   "cell_type": "code",
   "execution_count": 8,
   "metadata": {},
   "outputs": [],
   "source": [
    "#df1_rec.info() #52262 entries"
   ]
  },
  {
   "cell_type": "markdown",
   "metadata": {},
   "source": [
    "#########################################################################################################################"
   ]
  },
  {
   "cell_type": "markdown",
   "metadata": {},
   "source": [
    "## Goal # 1: Content Based Filtering. \n",
    "## Recommending merchants. Merchant is content or item here. \n",
    "#### E.g “Folks like you are enjoying TJ Maxx.” to someone who has similar transactions to those who go to TJ Maxx, but isnt currently a customer there.\"\n"
   ]
  },
  {
   "cell_type": "markdown",
   "metadata": {},
   "source": [
    "To implement above scenario, I need to first figure out the merchants in the data. Simple_description (merchant field) has 'not so clear' text and I can extract the \"merchant\" information from it but since it's all different length text with different start and end words etc., I will focus on extracting merchants from one category at a time and focusing top 10-15 (per Clair's advise) merchants/category"
   ]
  },
  {
   "cell_type": "code",
   "execution_count": 9,
   "metadata": {},
   "outputs": [
    {
     "data": {
      "text/plain": [
       "{'Automotive Expenses': 2.0,\n",
       " 'Child/Dependent Expenses': 4.0,\n",
       " 'Clothing/Shoes': 5.0,\n",
       " 'Education': 6.0,\n",
       " 'Entertainment': 7.0,\n",
       " 'Gasoline/Fuel': 8.0,\n",
       " 'Gifts': 9.0,\n",
       " 'Groceries': 10.0,\n",
       " 'Healthcare/Medical': 11.0,\n",
       " 'Home Maintenance': 12.0,\n",
       " 'Home Improvement': 13.0,\n",
       " 'Cable/Satellite Services': 15.0,\n",
       " 'Online Services': 16.0,\n",
       " 'Personal Care': 20.0,\n",
       " 'Restaurants/Dining': 22.0,\n",
       " 'Travel': 23.0,\n",
       " 'Service Charges/Fees': 24.0,\n",
       " 'Hobbies': 34.0,\n",
       " 'Telephone Services': 38.0,\n",
       " 'Utilities': 39.0,\n",
       " 'Pets/Pet Care': 42.0,\n",
       " 'Electronics': 43.0,\n",
       " 'General Merchandise': 44.0,\n",
       " 'Office Supplies': 45.0,\n",
       " 'Advertising': 100.0,\n",
       " 'Postage and Shipping': 104.0,\n",
       " 'Dues and Subscriptions': 108.0,\n",
       " 'Shops': 201.0,\n",
       " 'Service': 202.0,\n",
       " 'Food and Drink': 203.0,\n",
       " 'Healthcare': 204.0,\n",
       " 'Community': 205.0,\n",
       " 'Recreation': 206.0}"
      ]
     },
     "execution_count": 9,
     "metadata": {},
     "output_type": "execute_result"
    }
   ],
   "source": [
    "#creating dictionary with category as Key and categoryid as Value\n",
    "\n",
    "cat_catid_dict=df1_rec[['categoryid','category']].groupby('category')['categoryid'].first().to_dict()\n",
    "{k: v for k, v in sorted(cat_catid_dict.items(), key=lambda item: item[1])}\n"
   ]
  },
  {
   "cell_type": "code",
   "execution_count": 10,
   "metadata": {},
   "outputs": [
    {
     "data": {
      "text/plain": [
       "category\n",
       "Restaurants/Dining          8530\n",
       "Shops                       6403\n",
       "General Merchandise         6369\n",
       "Service                     5266\n",
       "Groceries                   4720\n",
       "Travel                      3748\n",
       "Food and Drink              2958\n",
       "Clothing/Shoes              1879\n",
       "Entertainment               1755\n",
       "Online Services             1575\n",
       "Gasoline/Fuel               1365\n",
       "Home Improvement            1121\n",
       "Healthcare/Medical          1018\n",
       "Personal Care                659\n",
       "Electronics                  583\n",
       "Utilities                    566\n",
       "Hobbies                      556\n",
       "Service Charges/Fees         352\n",
       "Automotive Expenses          348\n",
       "Telephone Services           317\n",
       "Cable/Satellite Services     315\n",
       "Pets/Pet Care                302\n",
       "Community                    267\n",
       "Recreation                   234\n",
       "Education                    223\n",
       "Postage and Shipping         201\n",
       "Dues and Subscriptions       176\n",
       "Home Maintenance             111\n",
       "Healthcare                   108\n",
       "Gifts                        105\n",
       "Office Supplies               63\n",
       "Child/Dependent Expenses      55\n",
       "Advertising                   14\n",
       "Name: category, dtype: int64"
      ]
     },
     "execution_count": 10,
     "metadata": {},
     "output_type": "execute_result"
    }
   ],
   "source": [
    "df1_rec.groupby(['category'])['category'].count().sort_values(ascending=False)"
   ]
  },
  {
   "cell_type": "markdown",
   "metadata": {},
   "source": [
    "#### The recommendation system code here is only coded for and tested for categories with > 1000 records except for Online Services:\n",
    "\n",
    "#### Restaurants/Dining, Shops, General Merchandise, Service, Groceries, Travel, Food and Drink, Clothing/Shoes, Entertainment,      Gasoline/Fuel, Home Improvement, Healthcare/Medical"
   ]
  },
  {
   "cell_type": "markdown",
   "metadata": {},
   "source": [
    "### 1. Selecting  a Category and related Merchant within the Category \n",
    "For now I am taking input to a \"currentCat\" variable to determine which category code needs to be executed.\n",
    "Default category is \"Resturants/Dining\""
   ]
  },
  {
   "cell_type": "code",
   "execution_count": 11,
   "metadata": {},
   "outputs": [
    {
     "name": "stdout",
     "output_type": "stream",
     "text": [
      "Category?Gasoline/Fuel\n"
     ]
    },
    {
     "data": {
      "text/plain": [
       "8.0"
      ]
     },
     "execution_count": 11,
     "metadata": {},
     "output_type": "execute_result"
    }
   ],
   "source": [
    "currentCat=input('Category?') #This will come from outside of this code, I think\n",
    "if currentCat=='': #if left empty code will run for resturant/dining by default\n",
    "    currentCatid=22.0\n",
    "else:\n",
    "    currentCatid=cat_catid_dict[currentCat]\n",
    "currentCatid"
   ]
  },
  {
   "cell_type": "code",
   "execution_count": 12,
   "metadata": {},
   "outputs": [
    {
     "name": "stdout",
     "output_type": "stream",
     "text": [
      "______________________________________________________________\n",
      "Showing top merchants from category ---  Gasoline/Fuel\n",
      "______________________________________________________________\n"
     ]
    },
    {
     "data": {
      "text/plain": [
       "merchant\n",
       "shell                             453\n",
       "bp global                         159\n",
       "conoco gas station                117\n",
       "exxonmobil                         68\n",
       "costco gas stations                54\n",
       "way                                41\n",
       "murphy usa                         38\n",
       "thorntons                          29\n",
       "safeway fuel                       20\n",
       "chevron                            20\n",
       "marathon petroleum                 18\n",
       "flying b bar ranch llc xx06 co     18\n",
       "sunoco                             15\n",
       "kwik trip                          13\n",
       "76 gas station                     12\n",
       "Name: merchant, dtype: int64"
      ]
     },
     "execution_count": 12,
     "metadata": {},
     "output_type": "execute_result"
    }
   ],
   "source": [
    "#Current top 15 merchants in the selected category\n",
    "#This cell shows what top15 looks like before deleting some that don't make sense in the next step\n",
    "print(\"______________________________________________________________\")\n",
    "print(\"Showing top merchants from category ---  {}\".format(currentCat))\n",
    "print(\"______________________________________________________________\")\n",
    "top_merch(df1_rec,currentCatid,15) "
   ]
  },
  {
   "cell_type": "markdown",
   "metadata": {},
   "source": [
    "### 2. Cleaning the merchant data some more. Specific to the category.\n",
    "To see what was deleted and reason behind it read \"Deleted_Merchants_History_Story.txt\""
   ]
  },
  {
   "cell_type": "code",
   "execution_count": 13,
   "metadata": {},
   "outputs": [],
   "source": [
    "#Deleting all the merchant records from all of the categories that are not needed\n",
    "\n",
    "deleteList=['ssp*rockymoutnain kung fuxx2839 co', 'brewing *******et', 'bethel university','apple.com/bill',\\\n",
    "            'amazon *******etplace','amazon.com','amazon prime video',\\\n",
    "            'ach transaction - qapital transfer 0007392303', 'ach transaction - qapital invest l ach 0007100028',\\\n",
    "            'direct withdrawal','travel','qoins','venmo','porkbun com portland us', 'otis craft collect lafayette us',\\\n",
    "            'live your life integratedxx5229 us', 'paypal','webflow com', 'visible service llc','nzb.su httpsnzb.su fl',\\\n",
    "            'premier1 supplies xx7622 ia','premier1 supplies xx7622 us','home depot',\"fisk's 'farm & home suppl decorah ia\",\\\n",
    "            \"dbt mcguckin hardwar |mcguckin hardware boulder co us|card nbr: 0853\",'flying b bar ranch llc xx06 co',\\\n",
    "            'front range eye health louisville co', 'mini miners pediatric erie us','chpg primary care erie erie co',\\\n",
    "            'mini miners pediatric denerie co','lombard direct']\n",
    "df1_rec=merchCleanup(df1_rec,deleteList)\n",
    "#df1_rec.info()"
   ]
  },
  {
   "cell_type": "markdown",
   "metadata": {},
   "source": [
    "#### 3.Creating DF of all the <u>remaining</u> records of the current chosen cateogry(df1_rec_category)\n",
    "\n",
    "#### 4.Collecting(input) a merchant from selected category for checking model accuracy (merchant_user_visited)\n",
    "\n",
    "#### 5. Collecting (input) for a user for whom we are recommending the merchant (userid)\n",
    "\n",
    "#### 6. Creating filters using \n",
    "    (1) popularity of other similar merchants (count_per_merch)  \n",
    "    (2) mean amount (dollars) spent by other users at the similar merchants (meanamt_per_merch)\n",
    "\n",
    "#### 7. Create \n",
    "    (1) sparse matrix of all user ids (uid) and merchants (merchants) of the specific category (df1_rec_merch_count_mtx)\n",
    "    (2) create matrix showing how popular the merchant \"merchat_user_visited\" was with all users in the specific category (merchant_popularity_count)\n"
   ]
  },
  {
   "cell_type": "code",
   "execution_count": 14,
   "metadata": {},
   "outputs": [],
   "source": [
    "df1_rec_category, top_merch_list = rec_df_merch_list(df1_rec,currentCatid, top_num=15)"
   ]
  },
  {
   "cell_type": "code",
   "execution_count": 15,
   "metadata": {},
   "outputs": [
    {
     "name": "stdout",
     "output_type": "stream",
     "text": [
      "['shell', 'bp global', 'conoco gas station', 'exxonmobil', 'costco gas stations', 'way', 'murphy usa', 'thorntons', 'safeway fuel', 'chevron', 'marathon petroleum', 'sunoco', 'kwik trip', '76 gas station', 'usa gasoline']chevron\n",
      "0       WdtUjyA3mghZ6TrphronQpCVrI23\n",
      "1       WdtUjyA3mghZ6TrphronQpCVrI23\n",
      "2       WdtUjyA3mghZ6TrphronQpCVrI23\n",
      "3       iGQQNft56uOLQlvPswO4lOFml192\n",
      "4       qy4wWJHVBMYbF3GnaQKCAsMej6k2\n",
      "                    ...             \n",
      "1063    DBVvUVdp3WU4dEvFMgLIhyFEnhx2\n",
      "1064    MbXxOc9yrRdIw4OKL4rBgD7z2dr2\n",
      "1065    ijLhZoMeT9NG2Pwcr5da2EB3NMr1\n",
      "1066    jA8Rm4XLjKNskb7A8Gn80ak5WWJ3\n",
      "1067    Vu3NDutPceaAEeiGqONoQG7dDou1\n",
      "Name: uid, Length: 1068, dtype: object\n"
     ]
    }
   ],
   "source": [
    "userid, merchant_user_visited,count_per_merch, meanamt_per_merch = filters(currentCatid,df1_rec_category, top_merch_list)"
   ]
  },
  {
   "cell_type": "code",
   "execution_count": 16,
   "metadata": {},
   "outputs": [],
   "source": [
    "df1_rec_merch_count_mtx, merchant_popularity_count = sparseMtx(df1_rec_category,merchant_user_visited)"
   ]
  },
  {
   "cell_type": "code",
   "execution_count": 17,
   "metadata": {
    "scrolled": true
   },
   "outputs": [
    {
     "data": {
      "text/html": [
       "<div>\n",
       "<style scoped>\n",
       "    .dataframe tbody tr th:only-of-type {\n",
       "        vertical-align: middle;\n",
       "    }\n",
       "\n",
       "    .dataframe tbody tr th {\n",
       "        vertical-align: top;\n",
       "    }\n",
       "\n",
       "    .dataframe thead th {\n",
       "        text-align: right;\n",
       "    }\n",
       "</style>\n",
       "<table border=\"1\" class=\"dataframe\">\n",
       "  <thead>\n",
       "    <tr style=\"text-align: right;\">\n",
       "      <th>merchant</th>\n",
       "      <th>76 gas station</th>\n",
       "      <th>bp global</th>\n",
       "      <th>chevron</th>\n",
       "      <th>conoco gas station</th>\n",
       "      <th>costco gas stations</th>\n",
       "      <th>exxonmobil</th>\n",
       "      <th>kwik trip</th>\n",
       "      <th>marathon petroleum</th>\n",
       "      <th>murphy usa</th>\n",
       "      <th>safeway fuel</th>\n",
       "      <th>shell</th>\n",
       "      <th>sunoco</th>\n",
       "      <th>thorntons</th>\n",
       "      <th>usa gasoline</th>\n",
       "      <th>way</th>\n",
       "    </tr>\n",
       "    <tr>\n",
       "      <th>uid</th>\n",
       "      <th></th>\n",
       "      <th></th>\n",
       "      <th></th>\n",
       "      <th></th>\n",
       "      <th></th>\n",
       "      <th></th>\n",
       "      <th></th>\n",
       "      <th></th>\n",
       "      <th></th>\n",
       "      <th></th>\n",
       "      <th></th>\n",
       "      <th></th>\n",
       "      <th></th>\n",
       "      <th></th>\n",
       "      <th></th>\n",
       "    </tr>\n",
       "  </thead>\n",
       "  <tbody>\n",
       "    <tr>\n",
       "      <th>005vcYECEUZiN4cXajuea2lBnCy1</th>\n",
       "      <td>0</td>\n",
       "      <td>0</td>\n",
       "      <td>0</td>\n",
       "      <td>0</td>\n",
       "      <td>0</td>\n",
       "      <td>0</td>\n",
       "      <td>0</td>\n",
       "      <td>0</td>\n",
       "      <td>0</td>\n",
       "      <td>0</td>\n",
       "      <td>4</td>\n",
       "      <td>0</td>\n",
       "      <td>0</td>\n",
       "      <td>0</td>\n",
       "      <td>0</td>\n",
       "    </tr>\n",
       "    <tr>\n",
       "      <th>0BvDU2CvJTPwox1OYT70bnWdDUB2</th>\n",
       "      <td>0</td>\n",
       "      <td>0</td>\n",
       "      <td>0</td>\n",
       "      <td>0</td>\n",
       "      <td>1</td>\n",
       "      <td>0</td>\n",
       "      <td>0</td>\n",
       "      <td>0</td>\n",
       "      <td>0</td>\n",
       "      <td>0</td>\n",
       "      <td>4</td>\n",
       "      <td>0</td>\n",
       "      <td>0</td>\n",
       "      <td>0</td>\n",
       "      <td>0</td>\n",
       "    </tr>\n",
       "    <tr>\n",
       "      <th>0UIAYEH7qlUI6j1iiIg6XbmJWTG3</th>\n",
       "      <td>0</td>\n",
       "      <td>0</td>\n",
       "      <td>0</td>\n",
       "      <td>22</td>\n",
       "      <td>0</td>\n",
       "      <td>0</td>\n",
       "      <td>0</td>\n",
       "      <td>0</td>\n",
       "      <td>5</td>\n",
       "      <td>8</td>\n",
       "      <td>15</td>\n",
       "      <td>0</td>\n",
       "      <td>0</td>\n",
       "      <td>0</td>\n",
       "      <td>0</td>\n",
       "    </tr>\n",
       "    <tr>\n",
       "      <th>1I87ooK6OBNwxmmA31vkOHwA8wB3</th>\n",
       "      <td>0</td>\n",
       "      <td>0</td>\n",
       "      <td>0</td>\n",
       "      <td>1</td>\n",
       "      <td>0</td>\n",
       "      <td>0</td>\n",
       "      <td>0</td>\n",
       "      <td>0</td>\n",
       "      <td>0</td>\n",
       "      <td>0</td>\n",
       "      <td>0</td>\n",
       "      <td>0</td>\n",
       "      <td>0</td>\n",
       "      <td>0</td>\n",
       "      <td>0</td>\n",
       "    </tr>\n",
       "    <tr>\n",
       "      <th>1fPMZehrbgWogwknDB4ZKluoVFg2</th>\n",
       "      <td>0</td>\n",
       "      <td>0</td>\n",
       "      <td>1</td>\n",
       "      <td>8</td>\n",
       "      <td>0</td>\n",
       "      <td>0</td>\n",
       "      <td>0</td>\n",
       "      <td>0</td>\n",
       "      <td>0</td>\n",
       "      <td>0</td>\n",
       "      <td>0</td>\n",
       "      <td>0</td>\n",
       "      <td>0</td>\n",
       "      <td>0</td>\n",
       "      <td>0</td>\n",
       "    </tr>\n",
       "    <tr>\n",
       "      <th>...</th>\n",
       "      <td>...</td>\n",
       "      <td>...</td>\n",
       "      <td>...</td>\n",
       "      <td>...</td>\n",
       "      <td>...</td>\n",
       "      <td>...</td>\n",
       "      <td>...</td>\n",
       "      <td>...</td>\n",
       "      <td>...</td>\n",
       "      <td>...</td>\n",
       "      <td>...</td>\n",
       "      <td>...</td>\n",
       "      <td>...</td>\n",
       "      <td>...</td>\n",
       "      <td>...</td>\n",
       "    </tr>\n",
       "    <tr>\n",
       "      <th>wrHJZ3ZqRaO9VIPd55VTs6qHOpt2</th>\n",
       "      <td>0</td>\n",
       "      <td>0</td>\n",
       "      <td>0</td>\n",
       "      <td>0</td>\n",
       "      <td>0</td>\n",
       "      <td>0</td>\n",
       "      <td>0</td>\n",
       "      <td>0</td>\n",
       "      <td>0</td>\n",
       "      <td>0</td>\n",
       "      <td>2</td>\n",
       "      <td>0</td>\n",
       "      <td>0</td>\n",
       "      <td>0</td>\n",
       "      <td>0</td>\n",
       "    </tr>\n",
       "    <tr>\n",
       "      <th>xVIvGWUazLftKSenD2ozjaDN2ly2</th>\n",
       "      <td>0</td>\n",
       "      <td>0</td>\n",
       "      <td>0</td>\n",
       "      <td>1</td>\n",
       "      <td>0</td>\n",
       "      <td>0</td>\n",
       "      <td>0</td>\n",
       "      <td>0</td>\n",
       "      <td>0</td>\n",
       "      <td>0</td>\n",
       "      <td>7</td>\n",
       "      <td>0</td>\n",
       "      <td>0</td>\n",
       "      <td>0</td>\n",
       "      <td>0</td>\n",
       "    </tr>\n",
       "    <tr>\n",
       "      <th>yZ8p33MBhcZSwkvUdnPFwnV1RR22</th>\n",
       "      <td>0</td>\n",
       "      <td>0</td>\n",
       "      <td>0</td>\n",
       "      <td>0</td>\n",
       "      <td>0</td>\n",
       "      <td>0</td>\n",
       "      <td>0</td>\n",
       "      <td>0</td>\n",
       "      <td>0</td>\n",
       "      <td>0</td>\n",
       "      <td>4</td>\n",
       "      <td>0</td>\n",
       "      <td>0</td>\n",
       "      <td>0</td>\n",
       "      <td>0</td>\n",
       "    </tr>\n",
       "    <tr>\n",
       "      <th>zMtgoCGe5JeMsQSRfZvKzS3CB9g2</th>\n",
       "      <td>0</td>\n",
       "      <td>0</td>\n",
       "      <td>0</td>\n",
       "      <td>0</td>\n",
       "      <td>0</td>\n",
       "      <td>0</td>\n",
       "      <td>0</td>\n",
       "      <td>0</td>\n",
       "      <td>0</td>\n",
       "      <td>0</td>\n",
       "      <td>2</td>\n",
       "      <td>0</td>\n",
       "      <td>0</td>\n",
       "      <td>0</td>\n",
       "      <td>0</td>\n",
       "    </tr>\n",
       "    <tr>\n",
       "      <th>zmpwcQoYK6eCUNN4HoJUUyI5xgs1</th>\n",
       "      <td>0</td>\n",
       "      <td>0</td>\n",
       "      <td>0</td>\n",
       "      <td>0</td>\n",
       "      <td>0</td>\n",
       "      <td>3</td>\n",
       "      <td>0</td>\n",
       "      <td>0</td>\n",
       "      <td>0</td>\n",
       "      <td>0</td>\n",
       "      <td>2</td>\n",
       "      <td>0</td>\n",
       "      <td>0</td>\n",
       "      <td>0</td>\n",
       "      <td>0</td>\n",
       "    </tr>\n",
       "  </tbody>\n",
       "</table>\n",
       "<p>75 rows × 15 columns</p>\n",
       "</div>"
      ],
      "text/plain": [
       "merchant                      76 gas station  bp global  chevron  \\\n",
       "uid                                                                \n",
       "005vcYECEUZiN4cXajuea2lBnCy1               0          0        0   \n",
       "0BvDU2CvJTPwox1OYT70bnWdDUB2               0          0        0   \n",
       "0UIAYEH7qlUI6j1iiIg6XbmJWTG3               0          0        0   \n",
       "1I87ooK6OBNwxmmA31vkOHwA8wB3               0          0        0   \n",
       "1fPMZehrbgWogwknDB4ZKluoVFg2               0          0        1   \n",
       "...                                      ...        ...      ...   \n",
       "wrHJZ3ZqRaO9VIPd55VTs6qHOpt2               0          0        0   \n",
       "xVIvGWUazLftKSenD2ozjaDN2ly2               0          0        0   \n",
       "yZ8p33MBhcZSwkvUdnPFwnV1RR22               0          0        0   \n",
       "zMtgoCGe5JeMsQSRfZvKzS3CB9g2               0          0        0   \n",
       "zmpwcQoYK6eCUNN4HoJUUyI5xgs1               0          0        0   \n",
       "\n",
       "merchant                      conoco gas station  costco gas stations  \\\n",
       "uid                                                                     \n",
       "005vcYECEUZiN4cXajuea2lBnCy1                   0                    0   \n",
       "0BvDU2CvJTPwox1OYT70bnWdDUB2                   0                    1   \n",
       "0UIAYEH7qlUI6j1iiIg6XbmJWTG3                  22                    0   \n",
       "1I87ooK6OBNwxmmA31vkOHwA8wB3                   1                    0   \n",
       "1fPMZehrbgWogwknDB4ZKluoVFg2                   8                    0   \n",
       "...                                          ...                  ...   \n",
       "wrHJZ3ZqRaO9VIPd55VTs6qHOpt2                   0                    0   \n",
       "xVIvGWUazLftKSenD2ozjaDN2ly2                   1                    0   \n",
       "yZ8p33MBhcZSwkvUdnPFwnV1RR22                   0                    0   \n",
       "zMtgoCGe5JeMsQSRfZvKzS3CB9g2                   0                    0   \n",
       "zmpwcQoYK6eCUNN4HoJUUyI5xgs1                   0                    0   \n",
       "\n",
       "merchant                      exxonmobil  kwik trip  marathon petroleum  \\\n",
       "uid                                                                       \n",
       "005vcYECEUZiN4cXajuea2lBnCy1           0          0                   0   \n",
       "0BvDU2CvJTPwox1OYT70bnWdDUB2           0          0                   0   \n",
       "0UIAYEH7qlUI6j1iiIg6XbmJWTG3           0          0                   0   \n",
       "1I87ooK6OBNwxmmA31vkOHwA8wB3           0          0                   0   \n",
       "1fPMZehrbgWogwknDB4ZKluoVFg2           0          0                   0   \n",
       "...                                  ...        ...                 ...   \n",
       "wrHJZ3ZqRaO9VIPd55VTs6qHOpt2           0          0                   0   \n",
       "xVIvGWUazLftKSenD2ozjaDN2ly2           0          0                   0   \n",
       "yZ8p33MBhcZSwkvUdnPFwnV1RR22           0          0                   0   \n",
       "zMtgoCGe5JeMsQSRfZvKzS3CB9g2           0          0                   0   \n",
       "zmpwcQoYK6eCUNN4HoJUUyI5xgs1           3          0                   0   \n",
       "\n",
       "merchant                      murphy usa  safeway fuel  shell  sunoco  \\\n",
       "uid                                                                     \n",
       "005vcYECEUZiN4cXajuea2lBnCy1           0             0      4       0   \n",
       "0BvDU2CvJTPwox1OYT70bnWdDUB2           0             0      4       0   \n",
       "0UIAYEH7qlUI6j1iiIg6XbmJWTG3           5             8     15       0   \n",
       "1I87ooK6OBNwxmmA31vkOHwA8wB3           0             0      0       0   \n",
       "1fPMZehrbgWogwknDB4ZKluoVFg2           0             0      0       0   \n",
       "...                                  ...           ...    ...     ...   \n",
       "wrHJZ3ZqRaO9VIPd55VTs6qHOpt2           0             0      2       0   \n",
       "xVIvGWUazLftKSenD2ozjaDN2ly2           0             0      7       0   \n",
       "yZ8p33MBhcZSwkvUdnPFwnV1RR22           0             0      4       0   \n",
       "zMtgoCGe5JeMsQSRfZvKzS3CB9g2           0             0      2       0   \n",
       "zmpwcQoYK6eCUNN4HoJUUyI5xgs1           0             0      2       0   \n",
       "\n",
       "merchant                      thorntons  usa gasoline  way  \n",
       "uid                                                         \n",
       "005vcYECEUZiN4cXajuea2lBnCy1          0             0    0  \n",
       "0BvDU2CvJTPwox1OYT70bnWdDUB2          0             0    0  \n",
       "0UIAYEH7qlUI6j1iiIg6XbmJWTG3          0             0    0  \n",
       "1I87ooK6OBNwxmmA31vkOHwA8wB3          0             0    0  \n",
       "1fPMZehrbgWogwknDB4ZKluoVFg2          0             0    0  \n",
       "...                                 ...           ...  ...  \n",
       "wrHJZ3ZqRaO9VIPd55VTs6qHOpt2          0             0    0  \n",
       "xVIvGWUazLftKSenD2ozjaDN2ly2          0             0    0  \n",
       "yZ8p33MBhcZSwkvUdnPFwnV1RR22          0             0    0  \n",
       "zMtgoCGe5JeMsQSRfZvKzS3CB9g2          0             0    0  \n",
       "zmpwcQoYK6eCUNN4HoJUUyI5xgs1          0             0    0  \n",
       "\n",
       "[75 rows x 15 columns]"
      ]
     },
     "execution_count": 17,
     "metadata": {},
     "output_type": "execute_result"
    }
   ],
   "source": [
    "df1_rec_merch_count_mtx"
   ]
  },
  {
   "cell_type": "markdown",
   "metadata": {},
   "source": [
    "### 8. Building Model"
   ]
  },
  {
   "cell_type": "markdown",
   "metadata": {},
   "source": [
    "### Evaluating Similarity Based on Pearson Correlation OR Cosine Similarity Score"
   ]
  },
  {
   "cell_type": "markdown",
   "metadata": {},
   "source": [
    "#### 1 (a) . Compute Pearson Correlation\n",
    "Using Pandas 'dataframe.corrwith()' method compute pairwise correlation between rows of two dataframes, df1_rec_merch_count_mtx and 'merchant_popularity_count'. This will produce a series with numbers between 0-1, showing correlation between all the merchants and the merchant_user_visited. Closer the score is to 1, greater is the correlation between the two entities. \n",
    "\n",
    "#### 1 (b) . Compute Cosine Similarity \n",
    "Using sklearn.metrics.pairwise submodule's function, cosine_similarity, compute similarities between all the merchants. The result is a nxn sparse matrix, where n is total number of merchants in a refined category data. A number closer to 1 shows high similarity and a number close to 0 shows less similarity between the merchants.\n",
    "\n",
    "#### 2. Filering\n",
    "Using Thresholds for Pearson Score, along with Thresholds for the filters created before (count_per_merch and meanamt_per_merch), filtter out the rows (merchants) that fall within those boundaries. \n",
    "\n",
    "#### 3. Recommendations:\n",
    "        (1) If the user  has not been a user of the category, recommend the results to him/her. \n",
    "        (2) If the user has been a user of the category but has not visited to these specific merchants, recommend these merchants to him/her\n",
    "        (3) If the user has been a active user of the cateogry and has been to the merchant > 10 times, don't recommend the merchants to him/her"
   ]
  },
  {
   "cell_type": "code",
   "execution_count": 18,
   "metadata": {},
   "outputs": [],
   "source": [
    "#Pearson"
   ]
  },
  {
   "cell_type": "code",
   "execution_count": 19,
   "metadata": {},
   "outputs": [
    {
     "name": "stdout",
     "output_type": "stream",
     "text": [
      "Folks like you, are enjoying ['76 gas station', 'usa gasoline', 'costco gas stations']\n"
     ]
    }
   ],
   "source": [
    "recommendationSystem(userid,merchant_user_visited,'Pearson',df1_rec_merch_count_mtx,merchant_popularity_count, \\\n",
    "                     count_per_merch, meanamt_per_merch,\\\n",
    "                    Threshold_C, Threshold_P, Threshold_Num_MeanAmt, \\\n",
    "                     Threshold_Num_Visit,top_merch_list)"
   ]
  },
  {
   "cell_type": "code",
   "execution_count": 20,
   "metadata": {},
   "outputs": [],
   "source": [
    "#Cosine"
   ]
  },
  {
   "cell_type": "code",
   "execution_count": 21,
   "metadata": {},
   "outputs": [
    {
     "name": "stdout",
     "output_type": "stream",
     "text": [
      "Folks like you, are enjoying ['safeway fuel', 'exxonmobil', 'way']\n"
     ]
    }
   ],
   "source": [
    "recommendationSystem(userid,merchant_user_visited,'Cosine',df1_rec_merch_count_mtx,merchant_popularity_count, \\\n",
    "                     count_per_merch, meanamt_per_merch, \\\n",
    "                    Threshold_C, Threshold_P, Threshold_Num_MeanAmt, \\\n",
    "                     Threshold_Num_Visit,top_merch_list)\n"
   ]
  },
  {
   "cell_type": "markdown",
   "metadata": {},
   "source": [
    "The End!"
   ]
  },
  {
   "cell_type": "code",
   "execution_count": null,
   "metadata": {},
   "outputs": [],
   "source": []
  },
  {
   "cell_type": "code",
   "execution_count": null,
   "metadata": {},
   "outputs": [],
   "source": []
  }
 ],
 "metadata": {
  "kernelspec": {
   "display_name": "Python 3",
   "language": "python",
   "name": "python3"
  },
  "language_info": {
   "codemirror_mode": {
    "name": "ipython",
    "version": 3
   },
   "file_extension": ".py",
   "mimetype": "text/x-python",
   "name": "python",
   "nbconvert_exporter": "python",
   "pygments_lexer": "ipython3",
   "version": "3.7.6"
  }
 },
 "nbformat": 4,
 "nbformat_minor": 4
}
